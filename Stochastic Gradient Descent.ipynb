{
 "cells": [
  {
   "cell_type": "markdown",
   "metadata": {},
   "source": [
    "# Lab 3: Stochastic Gradient Descent"
   ]
  },
  {
   "cell_type": "markdown",
   "metadata": {},
   "source": [
    "The goal of this lab session is to code an optimization algorithm that optimzes the penalized loss function of the logistic regression model.\n",
    "\n",
    "You have to send the filled notebook named **\"L3_familyname1_familyname2.ipynb\"** (groups of 2) by email to aml.centralesupelec.2019@gmail.com by October 17, 2019. Please put **\"AML-L3\"** in the subject. \n",
    "\n",
    "We begin with the standard imports:"
   ]
  },
  {
   "cell_type": "code",
   "execution_count": 5,
   "metadata": {},
   "outputs": [],
   "source": [
    "%matplotlib inline\n",
    "import matplotlib.pyplot as plt\n",
    "import seaborn as sns; sns.set()\n",
    "import numpy as np\n",
    "import pandas as pd"
   ]
  },
  {
   "cell_type": "markdown",
   "metadata": {},
   "source": [
    "We import the dataset that we are going to use, an indian dataset including in the last column information about the diabetes status of patients:"
   ]
  },
  {
   "cell_type": "code",
   "execution_count": 6,
   "metadata": {},
   "outputs": [],
   "source": [
    "from sklearn import model_selection\n",
    "\n",
    "diabetes_data = pd.read_csv(r\"C:\\Users\\hachi\\Downloads\\diabetes_data.csv\", sep=\",\")\n",
    "\n",
    "diabetes_train, diabetes_test = model_selection.train_test_split(diabetes_data)\n",
    "diabetes_train_x = diabetes_train.iloc[:, :-1].values\n",
    "diabetes_train_y = diabetes_train.iloc[:, -1].values\n",
    "diabetes_train_y[diabetes_train_y == 0] = -1\n",
    "\n",
    "diabetes_test_x = diabetes_test.iloc[:, :-1].values\n",
    "diabetes_test_y = diabetes_test.iloc[:, -1].values\n",
    "diabetes_test_y[diabetes_test_y == 0] = -1"
   ]
  },
  {
   "cell_type": "markdown",
   "metadata": {},
   "source": [
    "## Logistic Regression\n",
    "\n"
   ]
  },
  {
   "cell_type": "markdown",
   "metadata": {},
   "source": [
    "Today we’ll be moving from linear regression to logistic regression, one of the simplest ways to deal with a classification problem. Instead of fitting a line, logistic regression models the probability that the outcome is 1 given the value of the predictor. In order to do this we need a function that transforms our predictor variable to a value between 0 and 1. Lots of functions can do that, but the logistic function is the most common choice:\n",
    "\n",
    "$$f(z) = \\frac{1}{1+\\exp{-z}}.$$\n",
    "\n",
    "To predict the class of our observations we'll have to minimize the corresponding loss function and as we are in a high-dimensional context we'll add an $l_2$ regularization to the model:\n",
    "\n",
    "$$L(\\textbf{w}) = \\sum_{i=1}^n log(1+\\exp(-y_i\\textbf{w}^Tx_i))+\\frac{\\lambda}{2} \\| \\textbf{w} \\|^2,$$\n",
    "\n",
    "where $x_i$ is the vector of features for the observation $i$ and $y_i \\in \\{-1, 1\\}$ is the class label.  \n"
   ]
  },
  {
   "cell_type": "markdown",
   "metadata": {},
   "source": [
    "We first use the `sklearn` implementation:"
   ]
  },
  {
   "cell_type": "code",
   "execution_count": 7,
   "metadata": {},
   "outputs": [
    {
     "name": "stderr",
     "output_type": "stream",
     "text": [
      "C:\\ProgramData\\Anaconda3\\lib\\site-packages\\sklearn\\linear_model\\_logistic.py:762: ConvergenceWarning: lbfgs failed to converge (status=1):\n",
      "STOP: TOTAL NO. of ITERATIONS REACHED LIMIT.\n",
      "\n",
      "Increase the number of iterations (max_iter) or scale the data as shown in:\n",
      "    https://scikit-learn.org/stable/modules/preprocessing.html\n",
      "Please also refer to the documentation for alternative solver options:\n",
      "    https://scikit-learn.org/stable/modules/linear_model.html#logistic-regression\n",
      "  n_iter_i = _check_optimize_result(\n"
     ]
    }
   ],
   "source": [
    "from sklearn.linear_model import LogisticRegression\n",
    "model = LogisticRegression(penalty=\"l2\", C=2) \n",
    "model.fit(diabetes_train_x, diabetes_train_y)\n",
    "y_pred = model.predict(diabetes_test_x)"
   ]
  },
  {
   "cell_type": "markdown",
   "metadata": {},
   "source": [
    "and we compute the accuracy score to evaluate the model performance:"
   ]
  },
  {
   "cell_type": "code",
   "execution_count": 8,
   "metadata": {},
   "outputs": [
    {
     "data": {
      "text/plain": [
       "0.8020833333333334"
      ]
     },
     "execution_count": 8,
     "metadata": {},
     "output_type": "execute_result"
    }
   ],
   "source": [
    "from sklearn.metrics import accuracy_score\n",
    "accuracy_score(diabetes_test_y, y_pred)"
   ]
  },
  {
   "cell_type": "markdown",
   "metadata": {},
   "source": [
    "### Assignment\n",
    "\n",
    "Implement from scratch your own logistic regression model with stochastic gradient descent optimization. \n",
    "\n",
    "- Fill in the class\n",
    "\n",
    "- Display the evolution of the cost function along iterations. Do this for several strategies for the setting of the learning rate\n",
    "\n",
    "- Try the different acceleration strategies\n",
    "\n",
    "- Train the model with the training set and evaluate its performance in the test set"
   ]
  },
  {
   "cell_type": "code",
   "execution_count": 10,
   "metadata": {},
   "outputs": [],
   "source": [
    "from math import exp\n",
    "import numpy as np\n",
    "\n",
    "class StochasticLogisticRegression():\n",
    "    \"\"\" Class for logistic regression:\n",
    "    \n",
    "    Attributes:\n",
    "    -----------\n",
    "    coef_: 1-dimensional np.array\n",
    "        coefficients \n",
    "    alpha_: float\n",
    "        regularization parameter\n",
    "    lr_: float\n",
    "        the learning rate\n",
    "    bsize: integer\n",
    "        the size of the mini-batch >=1\n",
    "    coef_history_: list\n",
    "        the list of all visited betas\n",
    "    f_history_: list \n",
    "        the list of all evaluations in visited betas\n",
    "    \"\"\"\n",
    "    def __init__(self, alpha):\n",
    "        self.coef_  = None\n",
    "        self.alpha_ = alpha\n",
    "        self.lr_     = None\n",
    "        self.bsize_  = None\n",
    "        self.coef_history_ = []\n",
    "        self.f_history_ = []\n",
    "\n",
    "    def logistic(self, z):\n",
    "        # logistic function\n",
    "        try:\n",
    "            a = 1/(1+np.exp(-z))\n",
    "        except:\n",
    "            a = np.exp(z)/(1+np.exp(z))\n",
    "        return a\n",
    "\n",
    "    def fit(self, X, y, start, lr=1e-1, bsize=50, max_iter=500):\n",
    "        \"\"\" Fit the data (X, y).\n",
    "    \n",
    "        Parameters:\n",
    "        -----------\n",
    "        X: (num_samples, num_features) np.array\n",
    "            Design matrix\n",
    "        y: (num_sampes, ) np.array\n",
    "            Output vector\n",
    "        \n",
    "        Note:\n",
    "        -----\n",
    "        Updates self.coef_\n",
    "        \"\"\"        \n",
    "        n = X.shape[0]\n",
    "        p = X.shape[1]\n",
    "        \n",
    "        self.lr_ = lr\n",
    "        self.bsize_ = bsize\n",
    "        \n",
    "        def f_lr(beta):\n",
    "            '''evaluate the F=\\sum_{i=1}^n f_i in beta'''\n",
    "            return np.log(1+np.exp(-np.multiply(y, (np.dot(X, beta))))).sum()/X.shape[0] + (self.alpha_/2) * np.multiply(beta, beta).sum()\n",
    "        \n",
    "        self.coef_history_.append(start)\n",
    "        self.f_history_.append(f_lr(beta=start))\n",
    "        \n",
    "        \n",
    "        for step in range(max_iter):\n",
    "            # Pick random batch of observations\n",
    "            idx = np.random.randint(n, size=self.bsize_)\n",
    "            \n",
    "            # Calculate the gradient for the batch\n",
    "            last_beta = self.coef_history_[-1]\n",
    "            sub_gradient = 0\n",
    "            for i in idx:\n",
    "                sub_gradient += -y[i] * self.logistic(-y[i]*np.dot(last_beta, X[i, :])) * X[i, :]\n",
    "            sub_gradient += self.alpha_ * last_beta\n",
    "            \n",
    "            # Update the value of beta\n",
    "            new_beta = last_beta - self.lr_ * sub_gradient\n",
    "            \n",
    "            self.coef_history_.append(new_beta)\n",
    "            self.f_history_.append(f_lr(beta=new_beta))        \n",
    "        \n",
    "        self.coef_ = self.coef_history_[-1]\n",
    "         \n",
    "    def predict(self, X):\n",
    "        \"\"\" Make binary predictions for data X.\n",
    "    \n",
    "        Parameters:\n",
    "        -----------\n",
    "        X: (num_samples, num_features) np.array\n",
    "            Design matrix\n",
    "        \n",
    "        Returns:\n",
    "        -----\n",
    "        y_pred: (num_samples, ) np.array\n",
    "            Predictions (0 or 1)\n",
    "        \"\"\"\n",
    "        \n",
    "        return -1 + 2 * (self.logistic(np.dot(X, self.coef_)) > 0.5)"
   ]
  },
  {
   "cell_type": "markdown",
   "metadata": {},
   "source": [
    "Apply to the data"
   ]
  },
  {
   "cell_type": "code",
   "execution_count": 11,
   "metadata": {},
   "outputs": [
    {
     "name": "stderr",
     "output_type": "stream",
     "text": [
      "<ipython-input-10-af0ebba1808a>:60: RuntimeWarning: overflow encountered in exp\n",
      "  return np.log(1+np.exp(-np.multiply(y, (np.dot(X, beta))))).sum()/X.shape[0] + (self.alpha_/2) * np.multiply(beta, beta).sum()\n",
      "<ipython-input-10-af0ebba1808a>:33: RuntimeWarning: overflow encountered in exp\n",
      "  a = 1/(1+np.exp(-z))\n"
     ]
    }
   ],
   "source": [
    "model = StochasticLogisticRegression(alpha=0.5)\n",
    "model.fit(X=diabetes_train_x, y=diabetes_train_y, start=np.ones(diabetes_train_x.shape[1]), lr=1e-5, bsize=70, max_iter=500)"
   ]
  },
  {
   "cell_type": "code",
   "execution_count": 12,
   "metadata": {},
   "outputs": [
    {
     "data": {
      "text/plain": [
       "0.65625"
      ]
     },
     "execution_count": 12,
     "metadata": {},
     "output_type": "execute_result"
    }
   ],
   "source": [
    "y_test_pred = model.predict(diabetes_test_x)\n",
    "accuracy_score(diabetes_test_y, y_test_pred)"
   ]
  },
  {
   "cell_type": "markdown",
   "metadata": {},
   "source": [
    "##### There's a big drop in accuracy comparing to sklearn's method.\n",
    "##### Maybe the probabilities are not correctly computed or the threshold needs to be tuned"
   ]
  },
  {
   "cell_type": "markdown",
   "metadata": {},
   "source": [
    "### Evolution of cost function for different l_r strategies\n",
    "##### For the chosen l_r :"
   ]
  },
  {
   "cell_type": "code",
   "execution_count": 13,
   "metadata": {},
   "outputs": [
    {
     "data": {
      "text/plain": [
       "[<matplotlib.lines.Line2D at 0x1cb0e1685e0>]"
      ]
     },
     "execution_count": 13,
     "metadata": {},
     "output_type": "execute_result"
    },
    {
     "data": {
      "image/png": "[encoded data removed]",
      "text/plain": [
       "<Figure size 432x288 with 1 Axes>"
      ]
     },
     "metadata": {},
     "output_type": "display_data"
    }
   ],
   "source": [
    "plt.plot(model.f_history_)"
   ]
  },
  {
   "cell_type": "markdown",
   "metadata": {},
   "source": [
    "##### The SGD algorithm converges before the maximum number of iterations is attained\n",
    "\n",
    "##### If we set l_r too big :"
   ]
  },
  {
   "cell_type": "code",
   "execution_count": 15,
   "metadata": {},
   "outputs": [
    {
     "name": "stderr",
     "output_type": "stream",
     "text": [
      "<ipython-input-10-af0ebba1808a>:60: RuntimeWarning: overflow encountered in exp\n",
      "  return np.log(1+np.exp(-np.multiply(y, (np.dot(X, beta))))).sum()/X.shape[0] + (self.alpha_/2) * np.multiply(beta, beta).sum()\n",
      "<ipython-input-10-af0ebba1808a>:33: RuntimeWarning: overflow encountered in exp\n",
      "  a = 1/(1+np.exp(-z))\n"
     ]
    },
    {
     "data": {
      "text/plain": [
       "[<matplotlib.lines.Line2D at 0x1cb0e312700>]"
      ]
     },
     "execution_count": 15,
     "metadata": {},
     "output_type": "execute_result"
    },
    {
     "data": {
      "image/png": "[encoded data removed]",
      "text/plain": [
       "<Figure size 432x288 with 1 Axes>"
      ]
     },
     "metadata": {},
     "output_type": "display_data"
    }
   ],
   "source": [
    "model_1 = StochasticLogisticRegression(alpha=0.5)\n",
    "model_1.fit(X=diabetes_train_x, y=diabetes_train_y, start=np.ones(diabetes_train_x.shape[1]), lr=1e-4, bsize=70, max_iter=500)\n",
    "\n",
    "plt.plot(model_1.f_history_)"
   ]
  },
  {
   "cell_type": "markdown",
   "metadata": {},
   "source": [
    "#### The algorithm is not stable\n",
    "\n",
    "##### If we set l_r  smaller :"
   ]
  },
  {
   "cell_type": "code",
   "execution_count": 16,
   "metadata": {},
   "outputs": [
    {
     "name": "stderr",
     "output_type": "stream",
     "text": [
      "<ipython-input-10-af0ebba1808a>:60: RuntimeWarning: overflow encountered in exp\n",
      "  return np.log(1+np.exp(-np.multiply(y, (np.dot(X, beta))))).sum()/X.shape[0] + (self.alpha_/2) * np.multiply(beta, beta).sum()\n",
      "<ipython-input-10-af0ebba1808a>:33: RuntimeWarning: overflow encountered in exp\n",
      "  a = 1/(1+np.exp(-z))\n"
     ]
    },
    {
     "data": {
      "text/plain": [
       "[<matplotlib.lines.Line2D at 0x1cb0e375640>]"
      ]
     },
     "execution_count": 16,
     "metadata": {},
     "output_type": "execute_result"
    },
    {
     "data": {
      "image/png": "[encoded data removed]",
      "text/plain": [
       "<Figure size 432x288 with 1 Axes>"
      ]
     },
     "metadata": {},
     "output_type": "display_data"
    }
   ],
   "source": [
    "model_2 = StochasticLogisticRegression(alpha=0.5)\n",
    "model_2.fit(X=diabetes_train_x, y=diabetes_train_y, start=np.ones(diabetes_train_x.shape[1]), lr=1e-6, bsize=70, max_iter=500)\n",
    "plt.plot(model_2.f_history_)"
   ]
  },
  {
   "cell_type": "markdown",
   "metadata": {},
   "source": [
    "##### The algorithm converges but the convergence is slower than with l_r = 1e-5"
   ]
  },
  {
   "cell_type": "markdown",
   "metadata": {},
   "source": [
    "Implement only one acceleration method and compare the results"
   ]
  },
  {
   "cell_type": "markdown",
   "metadata": {},
   "source": [
    "### We implement the Momentum acceleration method where :\n",
    "#### beta(t+1) = beta(t) - l_r * grad_f(beta(t)) + theta * (beta(t)-beta(t-1))"
   ]
  },
  {
   "cell_type": "code",
   "execution_count": 17,
   "metadata": {},
   "outputs": [],
   "source": [
    "class SLR_Momentum():\n",
    "    \"\"\" Class for logistic regression:\n",
    "    \n",
    "    Attributes:\n",
    "    -----------\n",
    "    coef_: 1-dimensional np.array\n",
    "        coefficients \n",
    "    alpha_: float\n",
    "        regularization parameter\n",
    "    lr_: float\n",
    "        the learning rate\n",
    "    bsize: integer\n",
    "        the size of the mini-batch >=1\n",
    "    coef_history_: list\n",
    "        the list of all visited betas\n",
    "    f_history_: list \n",
    "        the list of all evaluations in visited betas\n",
    "    \"\"\"\n",
    "    def __init__(self, alpha):\n",
    "        self.coef_  = None\n",
    "        self.alpha_ = alpha\n",
    "        self.lr_     = None\n",
    "        self.bsize_  = None\n",
    "        self.coef_history_ = []\n",
    "        self.f_history_ = []\n",
    "\n",
    "    def logistic(self, z):\n",
    "        # logistic function\n",
    "        try:\n",
    "            a = 1/(1+np.exp(-z))\n",
    "        except:\n",
    "            a = np.exp(z)/(1+np.exp(z))\n",
    "        return a\n",
    "    \n",
    "\n",
    "    def fit(self, X, y, start, lr=1e-1, bsize=50, max_iter=500, theta=0.2):\n",
    "        \"\"\" Fit the data (X, y).\n",
    "    \n",
    "        Parameters:\n",
    "        -----------\n",
    "        X: (num_samples, num_features) np.array\n",
    "            Design matrix\n",
    "        y: (num_sampes, ) np.array\n",
    "            Output vector\n",
    "        \n",
    "        Note:\n",
    "        -----\n",
    "        Updates self.coef_\n",
    "        \"\"\"        \n",
    "        n = X.shape[0]\n",
    "        p = X.shape[1]\n",
    "        \n",
    "        self.lr_ = lr\n",
    "        self.bsize_ = bsize\n",
    "        \n",
    "        def f_lr(beta):\n",
    "            '''evaluate the F=\\sum_{i=1}^n f_i in beta'''\n",
    "            return np.log(1+np.exp(-np.multiply(y, (np.dot(X, beta))))).sum()/X.shape[0] + (self.alpha_/2) * np.multiply(beta, beta).sum()\n",
    "        \n",
    "        self.coef_history_.append(start)\n",
    "        self.f_history_.append(f_lr(beta=start))\n",
    "        \n",
    "        \n",
    "        for step in range(max_iter):\n",
    "            # Same steps\n",
    "            idx = np.random.randint(n, size=self.bsize_)\n",
    "            sampled_obs = X[idx, :]\n",
    "            \n",
    "            last_beta = self.coef_history_[-1]\n",
    "            sub_gradient = 0\n",
    "            for i in idx:\n",
    "                sub_gradient += -y[i] * self.logistic(-y[i]*np.dot(last_beta, X[i, :])) * X[i, :]\n",
    "            sub_gradient += self.alpha_ * last_beta\n",
    "            new_beta = last_beta - self.lr_ * sub_gradient\n",
    "            \n",
    "            # Add momentum\n",
    "            if step >= 1:\n",
    "                new_beta += theta * (self.coef_history_[-1] - self.coef_history_[-2])\n",
    "            \n",
    "            self.coef_history_.append(new_beta)\n",
    "            self.f_history_.append(f_lr(beta=new_beta))        \n",
    "        \n",
    "        self.coef_ = self.coef_history_[-1]\n",
    "         \n",
    "    def predict(self, X):\n",
    "        \"\"\" Make binary predictions for data X.\n",
    "    \n",
    "        Parameters:\n",
    "        -----------\n",
    "        X: (num_samples, num_features) np.array\n",
    "            Design matrix\n",
    "        \n",
    "        Returns:\n",
    "        -----\n",
    "        y_pred: (num_samples, ) np.array\n",
    "            Predictions (0 or 1)\n",
    "        \"\"\"\n",
    "        \n",
    "        return -1 + 2 * (self.logistic(np.dot(X, self.coef_)) > 0.5)"
   ]
  },
  {
   "cell_type": "code",
   "execution_count": 18,
   "metadata": {},
   "outputs": [
    {
     "name": "stderr",
     "output_type": "stream",
     "text": [
      "<ipython-input-17-4d90cf7f173c>:58: RuntimeWarning: overflow encountered in exp\n",
      "  return np.log(1+np.exp(-np.multiply(y, (np.dot(X, beta))))).sum()/X.shape[0] + (self.alpha_/2) * np.multiply(beta, beta).sum()\n",
      "<ipython-input-17-4d90cf7f173c>:30: RuntimeWarning: overflow encountered in exp\n",
      "  a = 1/(1+np.exp(-z))\n"
     ]
    },
    {
     "data": {
      "text/plain": [
       "0.6614583333333334"
      ]
     },
     "execution_count": 18,
     "metadata": {},
     "output_type": "execute_result"
    }
   ],
   "source": [
    "model_momentum = SLR_Momentum(alpha=0.5)\n",
    "model_momentum.fit(X=diabetes_train_x, y=diabetes_train_y, start=np.ones(diabetes_train_x.shape[1]), lr=1e-5, bsize=70, max_iter=500, theta=0.2)\n",
    "\n",
    "y_test_pred = model_momentum.predict(diabetes_test_x)\n",
    "accuracy_score(diabetes_test_y, y_test_pred)"
   ]
  },
  {
   "cell_type": "markdown",
   "metadata": {},
   "source": [
    "#### The accuracy is almost the same\n",
    "#### Let's see what happens with l_r = 1e-6 for the convergence speed"
   ]
  },
  {
   "cell_type": "code",
   "execution_count": 20,
   "metadata": {},
   "outputs": [
    {
     "name": "stderr",
     "output_type": "stream",
     "text": [
      "<ipython-input-17-4d90cf7f173c>:58: RuntimeWarning: overflow encountered in exp\n",
      "  return np.log(1+np.exp(-np.multiply(y, (np.dot(X, beta))))).sum()/X.shape[0] + (self.alpha_/2) * np.multiply(beta, beta).sum()\n",
      "<ipython-input-17-4d90cf7f173c>:30: RuntimeWarning: overflow encountered in exp\n",
      "  a = 1/(1+np.exp(-z))\n"
     ]
    },
    {
     "data": {
      "text/plain": [
       "[<matplotlib.lines.Line2D at 0x1cb0e3f6100>]"
      ]
     },
     "execution_count": 20,
     "metadata": {},
     "output_type": "execute_result"
    },
    {
     "data": {
      "image/png": "[encoded data removed]",
      "text/plain": [
       "<Figure size 432x288 with 1 Axes>"
      ]
     },
     "metadata": {},
     "output_type": "display_data"
    }
   ],
   "source": [
    "model_momentum = SLR_Momentum(alpha=0.5)\n",
    "model_momentum.fit(X=diabetes_train_x, y=diabetes_train_y, start=np.ones(diabetes_train_x.shape[1]), lr=1e-6, bsize=70, max_iter=500, theta=0.2)\n",
    "plt.plot(model_momentum.f_history_)"
   ]
  },
  {
   "cell_type": "markdown",
   "metadata": {},
   "source": [
    "#### The SGD starts converging after ~250 iterations with the momentum method. This convergence started after around ~300 iterations without the momentum method (see above).\n",
    "\n",
    "### The algorithm converges faster with the momentum method for the same learning rate while giving the same accuracy."
   ]
  }
 ],
 "metadata": {
  "anaconda-cloud": {},
  "kernelspec": {
   "display_name": "Python 3",
   "language": "python",
   "name": "python3"
  },
  "language_info": {
   "codemirror_mode": {
    "name": "ipython",
    "version": 3
   },
   "file_extension": ".py",
   "mimetype": "text/x-python",
   "name": "python",
   "nbconvert_exporter": "python",
   "pygments_lexer": "ipython3",
   "version": "3.8.3"
  }
 },
 "nbformat": 4,
 "nbformat_minor": 2
}
