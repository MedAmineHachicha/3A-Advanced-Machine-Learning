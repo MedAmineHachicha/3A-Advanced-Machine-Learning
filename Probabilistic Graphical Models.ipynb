{
 "cells": [
  {
   "cell_type": "markdown",
   "metadata": {},
   "source": [
    "# Lab 8: Graphical Models"
   ]
  },
  {
   "cell_type": "markdown",
   "metadata": {},
   "source": [
    "# Work done by : Mohamed Amine HACHICHA"
   ]
  },
  {
   "cell_type": "markdown",
   "metadata": {},
   "source": [
    "The goal of this lab session is to code two methods to estimate the structure of undirected gaussian graphical models and compare them.\n",
    "\n",
    "You have to send the filled notebook named **\"L8_familyname1_familyname2.ipynb\"** (groups of 2) by email to aml.centralesupelec.2019@gmail.com before December 12, 2019 at 23:59 and put **\"AML-L8\"** as subject. \n",
    "\n",
    "We begin with the standard imports:"
   ]
  },
  {
   "cell_type": "code",
   "execution_count": 1,
   "metadata": {},
   "outputs": [],
   "source": [
    "import numpy as np\n",
    "import matplotlib.pyplot as plt\n",
    "import seaborn as sns\n",
    "%matplotlib inline\n",
    "sns.set_context('poster')\n",
    "sns.set_color_codes()\n",
    "plot_kwds = {'alpha' : 0.25, 's' : 80, 'linewidths':0}"
   ]
  },
  {
   "cell_type": "markdown",
   "metadata": {},
   "source": [
    "## Graphical Models"
   ]
  },
  {
   "cell_type": "markdown",
   "metadata": {},
   "source": [
    "A graphical model is a probabilistic model for which a graph expresses the conditional dependence structure between random variables. The variables are represented by nodes and the relations between them are represented by edges.\n",
    "\n",
    "### GLasso\n",
    "\n",
    "Graphical Lasso is the name of the optimization problem that estimates the precision matrix of a multivariate gaussian and its name comes from the direct link with graphical models and the regularization term. \n",
    "\n",
    "Fill in the following class that implements the GLasso algorithm optimized by ADMM:"
   ]
  },
  {
   "cell_type": "code",
   "execution_count": 2,
   "metadata": {},
   "outputs": [],
   "source": [
    "class my_GLasso():\n",
    "    \n",
    "    def __init__(self, alpha, mu, max_iter=200, tol=1e-5):\n",
    "        '''\n",
    "        Parameters:\n",
    "        alpha : float\n",
    "            Penalization parameter selected.\n",
    "        mu: float>0\n",
    "\n",
    "        Attributes:\n",
    "        \n",
    "        covariance_ : numpy.ndarray, shape (n_features, n_features)\n",
    "            Estimated covariance matrix.\n",
    "        precision_ : numpy.ndarray, shape (n_features, n_features)\n",
    "            Estimated precision matrix (inverse covariance).\n",
    "        '''\n",
    "        self.covariance_ = None\n",
    "        self.precision_ = None\n",
    "        self.alpha = alpha\n",
    "        self.mu = mu\n",
    "        self.max_iter_ = max_iter\n",
    "        self.tol_ = tol\n",
    "        \n",
    "    def fit(self, X):\n",
    "        \"\"\" Fits the GraphicalLasso model to X.\n",
    "        \n",
    "        Parameters:\n",
    "        -----------\n",
    "        X: (n, p) np.array\n",
    "            Data matrix\n",
    "        \n",
    "        Returns:\n",
    "        -----\n",
    "        self\n",
    "        \"\"\"         \n",
    "        n, p = X.shape\n",
    "        \n",
    "        # Calculate the covariance matrix\n",
    "        self.covariance_ = np.cov(np.transpose(X))\n",
    "        \n",
    "        # initialize Y\n",
    "        Y = np.eye(p)\n",
    "\n",
    "        # Initialize Z\n",
    "        Z = np.eye(p)\n",
    "        \n",
    "        def soft_threshold(M, sigma):\n",
    "            # Give the soft thresholding of matrix M regarding sigma\n",
    "            A = M.copy()\n",
    "            for i in range(A.shape[0]):\n",
    "                for j in range(A.shape[1]):\n",
    "                    if abs(A[i, j]) < sigma:\n",
    "                        A[i, j] = 0\n",
    "                    else:\n",
    "                        A[i, j] = np.sign(A[i, j]) * (abs(A[i, j]) - sigma)\n",
    "            return A\n",
    "        \n",
    "        S = self.covariance_\n",
    "        itr = 0\n",
    "        \n",
    "        deviation = 1 \n",
    "        self.precision_ = np.zeros(S.shape)\n",
    "        while (itr<self.max_iter_) and (deviation>self.tol_):\n",
    "            old_precision = self.precision_.copy()\n",
    "            #   Update precision\n",
    "            eigen_values, eigen_vectors = np.linalg.eig(Y - Z - S/self.mu)\n",
    "            D = np.diag((eigen_values + np.sqrt(eigen_values**2 + 4/self.mu)))\n",
    "            self.precision_ = 0.5 * np.dot(np.dot(eigen_vectors, D), eigen_vectors.T)\n",
    "            \n",
    "            #   Update Y\n",
    "            Y = soft_threshold(M=self.precision_ + Z, sigma=self.alpha/self.mu)\n",
    "            \n",
    "            #   Update Z\n",
    "            Z = Z + self.mu * (self.precision_ - Y)\n",
    "            \n",
    "            # Calculate deviation\n",
    "            deviation = np.linalg.norm(old_precision - self.precision_, 2)\n",
    "            \n",
    "            itr += 1"
   ]
  },
  {
   "cell_type": "code",
   "execution_count": 4,
   "metadata": {},
   "outputs": [
    {
     "name": "stdout",
     "output_type": "stream",
     "text": [
      "Estimating the precision matrix from 60 samples... \n",
      "\n"
     ]
    },
    {
     "data": {
      "image/png": "[encoded data removed]",
      "text/plain": [
       "<Figure size 1080x360 with 4 Axes>"
      ]
     },
     "metadata": {
      "needs_background": "light"
     },
     "output_type": "display_data"
    }
   ],
   "source": [
    "# Compare methods of estimating the covariance matrix in low-sample regime\n",
    "n_samples = 60\n",
    "n_features = 20\n",
    "\n",
    "print(f'Estimating the precision matrix from {n_samples} samples... \\n')\n",
    "\n",
    "\n",
    "# Simulate data (multivariate gaussian)\n",
    "from sklearn.datasets import make_sparse_spd_matrix\n",
    "rng = np.random.RandomState(1)\n",
    "prec = make_sparse_spd_matrix(n_features, alpha=.98,\n",
    "                              smallest_coef=.4,\n",
    "                              largest_coef=.7,\n",
    "                              random_state=rng)\n",
    "cov = np.linalg.inv(prec)\n",
    "mean = np.zeros(n_features)\n",
    "data = np.random.multivariate_normal(mean, cov, n_samples)\n",
    "err = np.linalg.norm(prec - prec)\n",
    "\n",
    "prec_empirical = np.linalg.inv(np.dot(data.T, data) / n_samples)\n",
    "err_empirical = np.linalg.norm(prec - prec_empirical)\n",
    "\n",
    "# Graphical Lasso with cross validation \n",
    "from sklearn.covariance import GraphicalLassoCV\n",
    "model = GraphicalLassoCV(cv=5)\n",
    "model.fit(data)\n",
    "prec_glassocv = model.precision_\n",
    "err_glassocv = np.linalg.norm(prec - prec_glassocv)\n",
    "\n",
    "# Graphical Lasso estimation using our implementation\n",
    "model = my_GLasso(alpha=0.15, mu=1)\n",
    "model.fit(data)\n",
    "prec_glasso = model.precision_\n",
    "err_glasso = np.linalg.norm(prec - prec_glasso)\n",
    "vmax = prec_glasso.max()\n",
    "\n",
    "\n",
    "# Visual comparison\n",
    "titles = [\"True\", \"Empirical\", \"GLASSO (us)\", \"GLASSO crossval\"]\n",
    "imgs = [prec, prec_empirical, prec_glasso, prec_glassocv]\n",
    "errors = [err, err_empirical, err_glasso, err_glassocv]\n",
    "\n",
    "ncols = len(titles)\n",
    "fig, axes = plt.subplots(1, ncols, figsize=(15, 5))\n",
    "for idx, ax in enumerate(axes.flatten()):\n",
    "    img = imgs[idx]\n",
    "    error = np.around(errors[idx], decimals=2)\n",
    "    title = titles[idx] + f'\\n error {error}'\n",
    "    ax.imshow(img, vmin=-vmax, vmax=vmax, interpolation='nearest', cmap=plt.cm.RdBu_r)\n",
    "    ax.set_title(title)\n",
    "fig.tight_layout()\n"
   ]
  },
  {
   "cell_type": "markdown",
   "metadata": {},
   "source": [
    "Comment on the different methods' ability to recover the precision matrix structure and what that means in terms of the graph between features. "
   ]
  },
  {
   "cell_type": "markdown",
   "metadata": {},
   "source": [
    "#### The Empirical method fails to recover the precision matrix structure in low-sample regime (I tried the same experience with n=1000 observations and the empirical method gives significantly better results)\n",
    "\n",
    "#### Our GLasso and sklearn's crossvalidated GLasso succeed to recover the global structure of the precision matrix : a sparse matrix with important values on the diagonal and some sparse connected components (blue dots). GLasso succeeds to recover these connected components.\n",
    "\n",
    "#### We also notice that our GLasso has comparable results in terms of error with sklearn's GLasso !"
   ]
  },
  {
   "cell_type": "markdown",
   "metadata": {},
   "source": [
    "### Nodewise Regression\n",
    "\n",
    "Fill in the following class that implements the nodewise regression algorithm to estimate a graphical model structure. You can use `LassoCV` for the regressions. Bonus (not graded): Implement your own cross-validation lasso."
   ]
  },
  {
   "cell_type": "code",
   "execution_count": 5,
   "metadata": {},
   "outputs": [],
   "source": [
    "from sklearn.linear_model import LassoCV\n",
    "\n",
    "class my_nodewise_regression():\n",
    "    \n",
    "    def __init__(self, rule):\n",
    "        '''\n",
    "        Parameters:\n",
    "        \n",
    "        rule: {\"OR\", \"AND\"}\n",
    "        \n",
    "        Attributes:\n",
    "        \n",
    "        covariance_structure_ : numpy.ndarray, shape (n_features, n_features)\n",
    "            Estimated covariance matrix.        \n",
    "        '''\n",
    "        self.graph_structure_ = None\n",
    "        self.rule_ = rule\n",
    "        \n",
    "    def fit(self, X):\n",
    "        \"\"\" Fit the model to X.\n",
    "        \n",
    "        Parameters:\n",
    "        -----------\n",
    "        X: (n, p) np.array\n",
    "            Data matrix\n",
    "        \n",
    "        Returns:\n",
    "        -----\n",
    "        self\n",
    "        \"\"\"         \n",
    "        \n",
    "        n, p = X.shape\n",
    "        \n",
    "        # betas[i, :] contains the coefficients of the Lasso regression of Xi as a function of Xj with j!=i\n",
    "        betas = np.zeros((p, p))\n",
    "        \n",
    "        for j in range(p):\n",
    "            y = X[:, j]\n",
    "            x = X[:, np.array([True if i!=j else False for i in range(p)])]\n",
    "            lasso_model = LassoCV(alphas=[0.1])\n",
    "            lasso_model.fit(X=x, y=y)\n",
    "            \n",
    "            betas[j, np.array([True if i!=j else False for i in range(p)])] = lasso_model.coef_\n",
    "        \n",
    "        # Create the graph structure\n",
    "        betas = np.absolute(betas) > 1e-4\n",
    "        if self.rule_ == \"OR\":\n",
    "            self.graph_structure_ = betas | betas.T\n",
    "        \n",
    "        elif self.rule_ == \"AND\":\n",
    "            self.graph_structure_ = betas & betas.T"
   ]
  },
  {
   "cell_type": "markdown",
   "metadata": {},
   "source": [
    "Generate an easy-to-check (non-trivial, p<=6) example and plot the 4 (real, GLasso, AND, OR) graphs. You can use `networkx` to plot the resulting graph."
   ]
  },
  {
   "cell_type": "code",
   "execution_count": 23,
   "metadata": {},
   "outputs": [],
   "source": [
    "# Simulate multivariate normal with mean mu and covariance cov\n",
    "\n",
    "mu=[0, 1, 2, -1, 4]\n",
    "cov = np.array([\n",
    "    [2, 1, 1, 0, 0],\n",
    "    [1, 2, 0, 0, 0],\n",
    "    [1, 0, 2, 0, 1],\n",
    "    [0, 0, 0, 2, 0],\n",
    "    [0, 0, 1, 0, 2]\n",
    "])\n",
    "\n",
    "X = np.array([np.random.multivariate_normal(mu, cov) for i in range(1000)])\n",
    "real_precision = np.linalg.inv(cov)"
   ]
  },
  {
   "cell_type": "code",
   "execution_count": 26,
   "metadata": {},
   "outputs": [],
   "source": [
    "# Fit the 3 models\n",
    "\n",
    "model_nreg_AND = my_nodewise_regression(rule='AND')\n",
    "model_nreg_AND.fit(X)\n",
    "\n",
    "model_nreg_OR = my_nodewise_regression(rule='OR')\n",
    "model_nreg_OR.fit(X)\n",
    "\n",
    "model_GLasso = my_GLasso(alpha=0.1, mu=1)\n",
    "model_GLasso.fit(X)\n",
    "\n",
    "# Construct the graph structure for the GLasso model\n",
    "model_GLasso.graph_structure_ = np.abs(model_GLasso.precision_) > 1e-4\n",
    "for i in range(X.shape[1]):\n",
    "    model_GLasso.graph_structure_[i, i] = False"
   ]
  },
  {
   "cell_type": "code",
   "execution_count": 27,
   "metadata": {},
   "outputs": [
    {
     "data": {
      "image/png": "[encoded data removed]",
      "text/plain": [
       "<Figure size 720x720 with 4 Axes>"
      ]
     },
     "metadata": {},
     "output_type": "display_data"
    }
   ],
   "source": [
    "import networkx as nx\n",
    "import matplotlib.pyplot as plt\n",
    "\n",
    "def draw_graph_structure(graph_structure):\n",
    "    G = nx.from_numpy_matrix(graph_structure, create_using=nx.MultiGraph)\n",
    "    layout = nx.circular_layout(G)\n",
    "    nx.draw_networkx_nodes(G, layout, alpha=1)\n",
    "    nx.draw_networkx_edges(G, layout, alpha=1)\n",
    "    nx.draw_networkx_labels(G, layout)\n",
    "\n",
    "plt.figure(figsize=(10,10))\n",
    "plt.suptitle('Graph structure for the different models')\n",
    "plt.subplot(221)\n",
    "draw_graph_structure(np.abs(real_precision) > 0)\n",
    "plt.title(\"Real PGM\", size=16)\n",
    "plt.subplot(222)\n",
    "draw_graph_structure(model_GLasso.graph_structure_)\n",
    "plt.title(\"GLasso\", size=16)\n",
    "plt.subplot(223)\n",
    "draw_graph_structure(model_nreg_AND.graph_structure_)\n",
    "plt.title(\"Nodewise regression AND\", size=16)\n",
    "plt.subplot(224)\n",
    "draw_graph_structure(model_nreg_OR.graph_structure_)\n",
    "plt.title(\"Nodewise regression OR\", size=16)\n",
    "\n",
    "plt.show()"
   ]
  },
  {
   "cell_type": "markdown",
   "metadata": {},
   "source": [
    "#### The True precision graph shows that components 0,1,2 and 4 are all fully connected and each one of them is insependent of component 3.\n",
    "#### The AND - Nodewise Regression yields the perfect results. GLasso and OR-Nodewise Regression also give good results (but not perfect)."
   ]
  },
  {
   "cell_type": "markdown",
   "metadata": {},
   "source": [
    "## Simulations\n",
    "\n",
    "Compare the two graph estimators for each of the following models with $p = 300$ and $n = 40, 80, 320$:\n",
    "\n",
    "- An AR(1)-Block model. In this model the *covariance* matrix is block-diagonal with equalsized AR(1)-blocks of the form $(\\Sigma_{Block})_{i, j} = 0.9^{|i−j|}$, take $30 \\times 30$ blocks.\n",
    "- The exponential decay model considered in Fan et al. [2009]. In this model we consider a case where no element of the concentration matrix is exactly zero. The elements of $\\Theta$ are given by $\\Theta_{ij} = \\exp{(−2|i − j|)}$ equals essentially zero when the difference |i − j| is large.\n",
    "\n",
    "For GLasso estimation, use cross-validation k-fold with loglikelihood loss to select the $\\lambda$ penalization parameter. Evaluate your estimation using the Froebenius matrix norm. \n",
    "\n",
    "For Node-regression estimation, compare your edge-estimation with the binary (thresholded) covariance matrix. Evaluate your estimation using accuracy and the F1 score. "
   ]
  },
  {
   "cell_type": "markdown",
   "metadata": {
    "collapsed": true
   },
   "source": []
  },
  {
   "cell_type": "code",
   "execution_count": 28,
   "metadata": {},
   "outputs": [],
   "source": [
    "def loglik_loss(model, X, alpha):\n",
    "    precision = model.precision_\n",
    "    det = np.linalg.det(precision)\n",
    "    emp_cov = np.cov(X.T)\n",
    "    return np.log(det) - np.trace(np.dot(emp_cov, model.precision_)) + alpha * np.linalg.norm(precision, 1)"
   ]
  },
  {
   "cell_type": "code",
   "execution_count": 29,
   "metadata": {},
   "outputs": [],
   "source": [
    "from sklearn.metrics import f1_score, accuracy_score\n",
    "\n",
    "def calculate_acc_f1(predicted_precision, real_precision):\n",
    "    \n",
    "    p = predicted_precision.shape[0]\n",
    "    idx = [[j>i for j in range(p)] for i in range(p)]\n",
    "    \n",
    "    y_pred = np.absolute(predicted_precision[idx])\n",
    "    y_true = np.absolute(real_precision[idx]) > 1e-5\n",
    "    \n",
    "    acc = accuracy_score(y_true=y_true, y_pred=y_pred)\n",
    "    f1 = f1_score(y_true=y_true, y_pred=y_pred)\n",
    "    return acc, f1"
   ]
  },
  {
   "cell_type": "code",
   "execution_count": 30,
   "metadata": {},
   "outputs": [],
   "source": [
    "import scipy as sc\n",
    "from sklearn.model_selection import KFold\n",
    "\n",
    "\n",
    "def compare(mu, cov, precision, n_s):\n",
    "    for n in n_s:\n",
    "        print('########## Training with {} observations ##########'.format(n))\n",
    "        X = np.array([np.random.multivariate_normal(mu, cov) for i in range(n)])\n",
    "        alphas = [2**i for i in range(-5, 1)]\n",
    "        \n",
    "        print('--------- GLasso ----------')\n",
    "        print('--- Selecting the best alpha ---')\n",
    "        \n",
    "        # I tried the K-Fold CV but it is very slow, you can remove the docstring commas \"\"\"  \"\"\" to try it\n",
    "        # I will use the CV GLasso of sklearn\n",
    "        \n",
    "        \"\"\"n_splits = 3\n",
    "        kf = KFold(n_splits=n_splits)\n",
    "        kf.get_n_splits(X)\n",
    "        loglik_losses = []\n",
    "        for alpha in alphas:\n",
    "            print(alpha)\n",
    "            loss_alpha = 0\n",
    "            for train_index, test_index in kf.split(X):\n",
    "                X_train, X_test = X[train_index], X[test_index]\n",
    "                Glasso_model = my_GLasso(alpha=alpha, mu=1)\n",
    "                Glasso_model.fit(X_train)\n",
    "                print('fitted')\n",
    "                loss_alpha += loglik_loss(model=Glasso_model, X=X_test, alpha=alpha)\n",
    "            loss_alpha = loss_alpha / n_splits\n",
    "            loglik_losses.append(loss_alpha)\n",
    "        best_index = loglik_losses.index(min(loglik_losses))\n",
    "        best_alpha = alphas[best_index]\n",
    "        best_loss = loglik_losses[best_index]\"\"\"\n",
    "        \n",
    "        GLassoCV = GraphicalLassoCV(cv=3)\n",
    "        GLassoCV.fit(X)        \n",
    "        \n",
    "        best_alpha = GLassoCV.alpha_\n",
    "        best_loglik_loss = loglik_loss(model=GLassoCV, X=X, alpha=best_alpha)\n",
    "        \n",
    "        \n",
    "        print('The best alpha is: {}'.format(GLassoCV.alpha_))\n",
    "        print('The corresponding log-likelihood loss is: {}'.format(best_loglik_loss))\n",
    "        \n",
    "        print('--- Fitting the best Glasso model')\n",
    "        \n",
    "        GLasso_final = my_GLasso(alpha=best_alpha, mu=1)\n",
    "        GLasso_final.fit(X)\n",
    "        \n",
    "        frob_loss = np.linalg.norm(GLasso_final.precision_ - precision, 2)\n",
    "        print('**** The Frobenius loss is : {}'.format(frob_loss))\n",
    "        \n",
    "        print('--------- Nodewise Regression (AND) ----------')\n",
    "        model_nreg_AND = my_nodewise_regression(rule='AND')\n",
    "        model_nreg_AND.fit(X)\n",
    "        acc, f1 = calculate_acc_f1(predicted_precision=model_nreg_AND.graph_structure_, real_precision=precision)\n",
    "        print('*** F1 score : {}'.format(f1))\n",
    "        print('*** Accuracy score : {}'.format(acc))\n"
   ]
  },
  {
   "cell_type": "markdown",
   "metadata": {},
   "source": [
    "## AR(1)-Block model"
   ]
  },
  {
   "cell_type": "code",
   "execution_count": 31,
   "metadata": {},
   "outputs": [
    {
     "name": "stdout",
     "output_type": "stream",
     "text": [
      "########## Training with 40 observations ##########\n",
      "--------- GLasso ----------\n",
      "--- Selecting the best alpha ---\n",
      "The best alpha is: 0.345728381597126\n",
      "The corresponding log-likelihood loss is: 16.00674765755595\n",
      "--- Fitting the best Glasso model\n",
      "**** The Frobenius loss is : 19.99731196422304\n",
      "--------- Nodewise Regression (AND) ----------\n",
      "*** F1 score : 0.7795698924731183\n",
      "*** Accuracy score : 0.9963433667781494\n",
      "########## Training with 80 observations ##########\n",
      "--------- GLasso ----------\n",
      "--- Selecting the best alpha ---\n",
      "The best alpha is: 0.28227007906783336\n",
      "The corresponding log-likelihood loss is: 36.19923763656235\n",
      "--- Fitting the best Glasso model\n",
      "**** The Frobenius loss is : 19.451312626496943\n",
      "--------- Nodewise Regression (AND) ----------\n",
      "*** F1 score : 0.9020217729393467\n",
      "*** Accuracy score : 0.9985953177257525\n",
      "########## Training with 320 observations ##########\n",
      "--------- GLasso ----------\n",
      "--- Selecting the best alpha ---\n",
      "The best alpha is: 0.23510414880498615\n",
      "The corresponding log-likelihood loss is: 52.53166142175518\n",
      "--- Fitting the best Glasso model\n",
      "**** The Frobenius loss is : 17.05588479738857\n",
      "--------- Nodewise Regression (AND) ----------\n",
      "*** F1 score : 0.9682804674457429\n",
      "*** Accuracy score : 0.9995763656633222\n"
     ]
    }
   ],
   "source": [
    "block_size = 30\n",
    "\n",
    "block = [[0.9**(abs(i - j)) for j in range(block_size)] for i in range(block_size)]\n",
    "cov_AR = sc.linalg.block_diag(*[block for i in range(10)])\n",
    "precision_AR = np.linalg.inv(cov_AR)\n",
    "\n",
    "mu_AR = np.zeros(30*10)\n",
    "n_s = [40, 80, 320]\n",
    "\n",
    "compare(mu=mu_AR, cov=cov_AR, precision=precision_AR, n_s=n_s)"
   ]
  },
  {
   "cell_type": "markdown",
   "metadata": {},
   "source": [
    "## Exponential Decay model"
   ]
  },
  {
   "cell_type": "code",
   "execution_count": 32,
   "metadata": {},
   "outputs": [
    {
     "name": "stdout",
     "output_type": "stream",
     "text": [
      "########## Training with 40 observations ##########\n",
      "--------- GLasso ----------\n",
      "--- Selecting the best alpha ---\n",
      "The best alpha is: 0.672138831290229\n",
      "The corresponding log-likelihood loss is: -288.8728906683078\n",
      "--- Fitting the best Glasso model\n",
      "**** The Frobenius loss is : 10.031822724110736\n",
      "--------- Nodewise Regression (AND) ----------\n",
      "*** F1 score : 0.037969459347915804\n",
      "*** Accuracy score : 0.9480267558528428\n",
      "########## Training with 80 observations ##########\n",
      "--------- GLasso ----------\n",
      "--- Selecting the best alpha ---\n",
      "The best alpha is: 0.5169655862049349\n",
      "The corresponding log-likelihood loss is: -300.1223486480676\n",
      "--- Fitting the best Glasso model\n",
      "**** The Frobenius loss is : 6.343479885058614\n",
      "--------- Nodewise Regression (AND) ----------\n",
      "*** F1 score : 0.04214854793112311\n",
      "*** Accuracy score : 0.9169007803790412\n",
      "########## Training with 320 observations ##########\n",
      "--------- GLasso ----------\n",
      "--- Selecting the best alpha ---\n",
      "The best alpha is: 0.18251718944848516\n",
      "The corresponding log-likelihood loss is: -295.39608883458317\n",
      "--- Fitting the best Glasso model\n",
      "**** The Frobenius loss is : 0.5128361658574808\n",
      "--------- Nodewise Regression (AND) ----------\n",
      "*** F1 score : 0.14823622671422912\n",
      "*** Accuracy score : 0.9520847268673356\n"
     ]
    }
   ],
   "source": [
    "cov_Exp = np.array([[np.exp(-2*abs(i-j)) for j in range(300)] for i in range(300)])\n",
    "precision_Exp = np.linalg.inv(cov_Exp)\n",
    "\n",
    "mu_Exp = np.zeros(30*10)\n",
    "n_s = [40, 80, 320]\n",
    "\n",
    "compare(mu=mu_Exp, cov=cov_Exp, precision=precision_Exp, n_s=n_s)"
   ]
  },
  {
   "cell_type": "markdown",
   "metadata": {},
   "source": [
    "*Comment and compare the methods and the effect of the sample size.*"
   ]
  },
  {
   "cell_type": "markdown",
   "metadata": {},
   "source": [
    "#### I can't really compare the two methods (GLasso and Nodewise regression) results because we are using different evaluation metrics, but I noticed that Nodewise regression was faster\n",
    "\n",
    "#### For GLasso, we notice that for both models the Frobenius norm loss decreases when the number of observations increases, which is logical as we have more information about the relationships between the variables.\n",
    "\n",
    "#### For Nodewise regression, we notice that we always have a good accuracy. Accuracy is, in this case, a misleading metric because of the sparsity of the precision matrices after binary thresholding : there's a big imbalance in labels population.\n",
    "\n",
    "#### F1 score is more accurate. And we see here that the F1 score also increases when the number of observation increases for both models which is also logical.\n",
    "\n",
    "#### We also notice that for the first model, we get a good F1 score even with a low number of observations and this is due to the sparsity of the covariance matrix and its' remarkable structure (block diagonal).\n",
    "\n",
    "#### For the second model, and with a non sparse covariance matrix, we get a very low F1 score when the number of observations is low, even though the covariance matrix has the majority of its' cells values close to 0 due to the exponential decay. This F1 score tends to increase when the number of observation increases and it seems that 320 observations are always not enough to yield a good score."
   ]
  }
 ],
 "metadata": {
  "kernelspec": {
   "display_name": "Python 3",
   "language": "python",
   "name": "python3"
  },
  "language_info": {
   "codemirror_mode": {
    "name": "ipython",
    "version": 3
   },
   "file_extension": ".py",
   "mimetype": "text/x-python",
   "name": "python",
   "nbconvert_exporter": "python",
   "pygments_lexer": "ipython3",
   "version": "3.8.3"
  }
 },
 "nbformat": 4,
 "nbformat_minor": 2
}
